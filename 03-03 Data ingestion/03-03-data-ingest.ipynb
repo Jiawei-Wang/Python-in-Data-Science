{
 "cells": [
  {
   "cell_type": "markdown",
   "metadata": {},
   "source": [
    "# Data ingestion\n",
    "\n",
    "For video notes on these materials, please see the adjoining [video notes](03-03-data-ingest-video-notes.ipynb). Then complete this exercise. \n",
    "\n",
    "First watch the video and login to grading:"
   ]
  },
  {
   "cell_type": "code",
   "execution_count": 1,
   "metadata": {},
   "outputs": [
    {
     "name": "stdout",
     "output_type": "stream",
     "text": [
      "=====================================================================\n",
      "Assignment: 03-03 Data Ingestion\n",
      "OK, version v1.14.15\n",
      "=====================================================================\n",
      "\n"
     ]
    }
   ],
   "source": [
    "# Don't change this cell; just run it. \n",
    "from IPython.display import IFrame\n",
    "IFrame('https://1813261-1.kaf.kaltura.com/media/t/1_odixlrd8/133896931', width=800, height=560)\n",
    "\n",
    "from client.api.notebook import Notebook\n",
    "ok = Notebook('03-03-data-ingest.ok')"
   ]
  },
  {
   "cell_type": "markdown",
   "metadata": {},
   "source": [
    "1. **Write code to read data from the file `exer1.txt`.**\n",
    "Put the data into the numpy array `exer1`"
   ]
  },
  {
   "cell_type": "code",
   "execution_count": 2,
   "metadata": {},
   "outputs": [],
   "source": [
    "%more exer1.txt"
   ]
  },
  {
   "cell_type": "code",
   "execution_count": 3,
   "metadata": {},
   "outputs": [
    {
     "data": {
      "text/plain": [
       "array([[25. , 25.5, 10.4],\n",
       "       [10. , 15. , 25.5],\n",
       "       [ 9. ,  2. ,  7. ]])"
      ]
     },
     "execution_count": 3,
     "metadata": {},
     "output_type": "execute_result"
    }
   ],
   "source": [
    "# fill in details ... \n",
    "import numpy as np\n",
    "exer1 = np.loadtxt('exer1.txt', delimiter=',')\n",
    "exer1"
   ]
  },
  {
   "cell_type": "code",
   "execution_count": 4,
   "metadata": {},
   "outputs": [
    {
     "name": "stdout",
     "output_type": "stream",
     "text": [
      "~~~~~~~~~~~~~~~~~~~~~~~~~~~~~~~~~~~~~~~~~~~~~~~~~~~~~~~~~~~~~~~~~~~~~\n",
      "Running tests\n",
      "\n",
      "---------------------------------------------------------------------\n",
      "Test summary\n",
      "    Passed: 1\n",
      "    Failed: 0\n",
      "[ooooooooook] 100.0% passed\n",
      "\n"
     ]
    }
   ],
   "source": [
    "_ = ok.grade('q01')  # run this to check your answer"
   ]
  },
  {
   "cell_type": "markdown",
   "metadata": {},
   "source": [
    "2. **Write code to read data from the file `exer2.txt`.** Put the result into `exer2`."
   ]
  },
  {
   "cell_type": "code",
   "execution_count": 5,
   "metadata": {},
   "outputs": [],
   "source": [
    "%more exer2.txt"
   ]
  },
  {
   "cell_type": "code",
   "execution_count": 6,
   "metadata": {},
   "outputs": [
    {
     "data": {
      "text/plain": [
       "array([[25. , 25.5, 10.4],\n",
       "       [10. , 15. , 25.5],\n",
       "       [ 9. ,  2. ,  7. ]])"
      ]
     },
     "execution_count": 6,
     "metadata": {},
     "output_type": "execute_result"
    }
   ],
   "source": [
    "# fill in details ... \n",
    "exer2 = np.loadtxt('exer2.txt')  \n",
    "exer2"
   ]
  },
  {
   "cell_type": "code",
   "execution_count": 7,
   "metadata": {},
   "outputs": [
    {
     "name": "stdout",
     "output_type": "stream",
     "text": [
      "~~~~~~~~~~~~~~~~~~~~~~~~~~~~~~~~~~~~~~~~~~~~~~~~~~~~~~~~~~~~~~~~~~~~~\n",
      "Running tests\n",
      "\n",
      "---------------------------------------------------------------------\n",
      "Test summary\n",
      "    Passed: 1\n",
      "    Failed: 0\n",
      "[ooooooooook] 100.0% passed\n",
      "\n"
     ]
    }
   ],
   "source": [
    "_ = ok.grade('q02')  # run this to check your work"
   ]
  },
  {
   "cell_type": "markdown",
   "metadata": {},
   "source": [
    "2. **Write code to read data from the file `exer3.txt`.** Put the result into `exer3`."
   ]
  },
  {
   "cell_type": "code",
   "execution_count": 8,
   "metadata": {},
   "outputs": [],
   "source": [
    "%more exer3.txt"
   ]
  },
  {
   "cell_type": "code",
   "execution_count": 9,
   "metadata": {},
   "outputs": [
    {
     "data": {
      "text/plain": [
       "array([[25. , 25.5, 10.4],\n",
       "       [10. , 15. , 25.5],\n",
       "       [ 9. ,  2. ,  7. ]])"
      ]
     },
     "execution_count": 9,
     "metadata": {},
     "output_type": "execute_result"
    }
   ],
   "source": [
    "# fill in details ... \n",
    "exer3 = np.genfromtxt('exer3.txt',delimiter = (4,4,4))\n",
    "exer3"
   ]
  },
  {
   "cell_type": "code",
   "execution_count": 10,
   "metadata": {},
   "outputs": [
    {
     "name": "stdout",
     "output_type": "stream",
     "text": [
      "~~~~~~~~~~~~~~~~~~~~~~~~~~~~~~~~~~~~~~~~~~~~~~~~~~~~~~~~~~~~~~~~~~~~~\n",
      "Running tests\n",
      "\n",
      "---------------------------------------------------------------------\n",
      "Test summary\n",
      "    Passed: 1\n",
      "    Failed: 0\n",
      "[ooooooooook] 100.0% passed\n",
      "\n"
     ]
    }
   ],
   "source": [
    "_ = ok.grade('q03')  # run this to check your answer"
   ]
  },
  {
   "cell_type": "markdown",
   "metadata": {},
   "source": [
    "(A personal note: You might think this file format is really clueless. It contains, however, the exact same data as the other two files. This kind of column run-together is common in outputs of scientific computing, and *fixed-width parsing is the only way to unravel it!* These exercises are chosen from *my personal experience in frustrating data wrangling* to get data into python and other languages! -- Prof. Couch)"
   ]
  },
  {
   "cell_type": "markdown",
   "metadata": {},
   "source": [
    "4. (Advanced) Write code to input the data in `exer4.txt`. Make the third column an integer rather than floating point. Hint: look at the `dtype` field in the documentation for `genfromtxt` and use it to define the field types. Consider allowing the system to figure it out via `dtype=None` "
   ]
  },
  {
   "cell_type": "code",
   "execution_count": 11,
   "metadata": {},
   "outputs": [],
   "source": [
    "%more exer4.txt"
   ]
  },
  {
   "cell_type": "code",
   "execution_count": 12,
   "metadata": {},
   "outputs": [
    {
     "name": "stdout",
     "output_type": "stream",
     "text": [
      "[(20. , 30. ,  4) (40.5, 50.5, 30) (60.2, 70.3, 50)]\n"
     ]
    }
   ],
   "source": [
    "# fill in details ...\n",
    "exer4 = np.genfromtxt('exer4.txt',delimiter = (4,4,4),dtype = [('f8'),('f8'),('i8')])\n",
    "print(exer4)"
   ]
  },
  {
   "cell_type": "markdown",
   "metadata": {},
   "source": [
    "See SciPy [Structured Arrays and Structured Datatypes](https://docs.scipy.org/doc/numpy/user/basics.rec.html) for details."
   ]
  },
  {
   "cell_type": "code",
   "execution_count": 13,
   "metadata": {},
   "outputs": [
    {
     "data": {
      "text/plain": [
       "numpy.int64"
      ]
     },
     "execution_count": 13,
     "metadata": {},
     "output_type": "execute_result"
    }
   ],
   "source": [
    "type(exer4[0][2])"
   ]
  },
  {
   "cell_type": "code",
   "execution_count": 14,
   "metadata": {},
   "outputs": [
    {
     "name": "stdout",
     "output_type": "stream",
     "text": [
      "~~~~~~~~~~~~~~~~~~~~~~~~~~~~~~~~~~~~~~~~~~~~~~~~~~~~~~~~~~~~~~~~~~~~~\n",
      "Running tests\n",
      "\n",
      "---------------------------------------------------------------------\n",
      "Test summary\n",
      "    Passed: 1\n",
      "    Failed: 0\n",
      "[ooooooooook] 100.0% passed\n",
      "\n"
     ]
    }
   ],
   "source": [
    "_ = ok.grade('q04')  # run this to check your answer"
   ]
  },
  {
   "cell_type": "markdown",
   "metadata": {},
   "source": [
    "### Afterword: what is an nparray? \n",
    "In this example, the result will be an `nparray` of tuples rather than a regular `nparray` of numbers. Why? *A regular `nparray` requires elements of the same type!*. Compare the above with the output from exercise 3 above. All elements are float, so that's a regular `nparray`. When you violate that restriction, `numpy` automatically gives you a tuple rather than a list of values. \n",
    "\n",
    "5. (Advanced) As in problem 4, read data from `exer5.txt`, and additionally label the columns 'carbon', 'nitrogen', 'oxygen'. Put the result into exer5."
   ]
  },
  {
   "cell_type": "code",
   "execution_count": 17,
   "metadata": {},
   "outputs": [],
   "source": [
    "%more exer5.txt"
   ]
  },
  {
   "cell_type": "code",
   "execution_count": 18,
   "metadata": {},
   "outputs": [
    {
     "ename": "NameError",
     "evalue": "name 'exer5' is not defined",
     "output_type": "error",
     "traceback": [
      "\u001b[0;31m---------------------------------------------------------------------------\u001b[0m",
      "\u001b[0;31mNameError\u001b[0m                                 Traceback (most recent call last)",
      "\u001b[0;32m<ipython-input-18-5fc41d2d4ff8>\u001b[0m in \u001b[0;36m<module>\u001b[0;34m\u001b[0m\n\u001b[1;32m      3\u001b[0m \u001b[0;34m\u001b[0m\u001b[0m\n\u001b[1;32m      4\u001b[0m     \u001b[0mexer5\u001b[0m \u001b[0;34m=\u001b[0m \u001b[0mread_fixed_format_named_file\u001b[0m\u001b[0;34m(\u001b[0m\u001b[0;34m\"exer5.txt\"\u001b[0m\u001b[0;34m)\u001b[0m\u001b[0;34m\u001b[0m\u001b[0;34m\u001b[0m\u001b[0m\n\u001b[0;32m----> 5\u001b[0;31m \u001b[0mexer5\u001b[0m\u001b[0;34m\u001b[0m\u001b[0;34m\u001b[0m\u001b[0m\n\u001b[0m",
      "\u001b[0;31mNameError\u001b[0m: name 'exer5' is not defined"
     ]
    }
   ],
   "source": [
    "def read_fixed_format_named_file(filename):\n",
    "    ...\n",
    "\n",
    "    exer5 = read_fixed_format_named_file(\"exer5.txt\")\n",
    "exer5"
   ]
  },
  {
   "cell_type": "code",
   "execution_count": 19,
   "metadata": {},
   "outputs": [
    {
     "ename": "NameError",
     "evalue": "name 'exer5' is not defined",
     "output_type": "error",
     "traceback": [
      "\u001b[0;31m---------------------------------------------------------------------------\u001b[0m",
      "\u001b[0;31mNameError\u001b[0m                                 Traceback (most recent call last)",
      "\u001b[0;32m<ipython-input-19-df22dd9a40ea>\u001b[0m in \u001b[0;36m<module>\u001b[0;34m\u001b[0m\n\u001b[1;32m      1\u001b[0m \u001b[0;31m# use this to test your work\u001b[0m\u001b[0;34m\u001b[0m\u001b[0;34m\u001b[0m\u001b[0;34m\u001b[0m\u001b[0m\n\u001b[0;32m----> 2\u001b[0;31m \u001b[0;32mfor\u001b[0m \u001b[0mkey\u001b[0m \u001b[0;32min\u001b[0m \u001b[0mexer5\u001b[0m\u001b[0;34m.\u001b[0m\u001b[0mdtype\u001b[0m\u001b[0;34m.\u001b[0m\u001b[0mnames\u001b[0m\u001b[0;34m:\u001b[0m\u001b[0;34m\u001b[0m\u001b[0;34m\u001b[0m\u001b[0m\n\u001b[0m\u001b[1;32m      3\u001b[0m     \u001b[0mprint\u001b[0m\u001b[0;34m(\u001b[0m\u001b[0;34m'{} is {}'\u001b[0m\u001b[0;34m.\u001b[0m\u001b[0mformat\u001b[0m\u001b[0;34m(\u001b[0m\u001b[0mkey\u001b[0m\u001b[0;34m,\u001b[0m \u001b[0mexer5\u001b[0m\u001b[0;34m[\u001b[0m\u001b[0mkey\u001b[0m\u001b[0;34m]\u001b[0m\u001b[0;34m)\u001b[0m\u001b[0;34m)\u001b[0m\u001b[0;34m\u001b[0m\u001b[0;34m\u001b[0m\u001b[0m\n",
      "\u001b[0;31mNameError\u001b[0m: name 'exer5' is not defined"
     ]
    }
   ],
   "source": [
    "# use this to test your work \n",
    "for key in exer5.dtype.names:\n",
    "    print('{} is {}'.format(key, exer5[key]))"
   ]
  },
  {
   "cell_type": "markdown",
   "metadata": {},
   "source": [
    "Note that these are real `ndarray` vectors, not `tuple`s, because they each contain a single type of elements. "
   ]
  },
  {
   "cell_type": "code",
   "execution_count": 20,
   "metadata": {},
   "outputs": [
    {
     "name": "stdout",
     "output_type": "stream",
     "text": [
      "~~~~~~~~~~~~~~~~~~~~~~~~~~~~~~~~~~~~~~~~~~~~~~~~~~~~~~~~~~~~~~~~~~~~~\n",
      "Running tests\n",
      "\n",
      "---------------------------------------------------------------------\n",
      "Question 5 > Suite 1 > Case 1\n",
      "\n",
      ">>> print(exer5)\n",
      "NameError: name 'exer5' is not defined\n",
      "\n",
      "# Error: expected\n",
      "#     [(20. , 30. ,  4) (40.5, 50.5, 30) (60.2, 70.3, 50)]\n",
      "# but got\n",
      "#     Traceback (most recent call last):\n",
      "#       ...\n",
      "#     NameError: name 'exer5' is not defined\n",
      "\n",
      "Run only this test case with \"python3 ok -q q05 --suite 1 --case 1\"\n",
      "---------------------------------------------------------------------\n",
      "Test summary\n",
      "    Passed: 0\n",
      "    Failed: 1\n",
      "[k..........] 0.0% passed\n",
      "\n"
     ]
    }
   ],
   "source": [
    "_ = ok.grade('q05')  # run this to check your answer"
   ]
  },
  {
   "cell_type": "markdown",
   "metadata": {},
   "source": [
    "# When you are done with this notebook, \n",
    "* Save and checkpoint. \n",
    "* Ensure that the name of this file is precisely `03-03-data-ingest.ipynb`. \n",
    "* <del>Change `ready` to `True` in the cell below. </del>\n",
    "* <del>Run the cell below to submit your work for grading. </del>\n",
    "* Save and checkpoint the notebook. "
   ]
  },
  {
   "cell_type": "code",
   "execution_count": null,
   "metadata": {},
   "outputs": [
    {
     "name": "stderr",
     "output_type": "stream",
     "text": [
      "ERROR  | auth.py:102 | {'error': 'invalid_grant'}\n"
     ]
    },
    {
     "name": "stdout",
     "output_type": "stream",
     "text": [
      "Performing authentication\n"
     ]
    }
   ],
   "source": [
    "ready = True  # change to True when ready to submit\n",
    "print(\"submitting file {} for assignment {} as user {}\".format(ok.assignment.src[0], \n",
    "                                                               ok.assignment.name, \n",
    "                                                               ok.assignment.get_student_email()))\n",
    "if not ready:\n",
    "    raise Exception(\"change ready to True when ready to submit\")\n",
    "_ = ok.submit()"
   ]
  },
  {
   "cell_type": "code",
   "execution_count": null,
   "metadata": {},
   "outputs": [],
   "source": []
  }
 ],
 "metadata": {
  "kernelspec": {
   "display_name": "Python 3",
   "language": "python",
   "name": "python3"
  },
  "language_info": {
   "codemirror_mode": {
    "name": "ipython",
    "version": 3
   },
   "file_extension": ".py",
   "mimetype": "text/x-python",
   "name": "python",
   "nbconvert_exporter": "python",
   "pygments_lexer": "ipython3",
   "version": "3.6.8"
  }
 },
 "nbformat": 4,
 "nbformat_minor": 2
}
