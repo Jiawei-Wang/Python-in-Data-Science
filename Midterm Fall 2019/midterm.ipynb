{
 "cells": [
  {
   "cell_type": "markdown",
   "metadata": {},
   "source": [
    "Please read this block:\n",
    "\n",
    "I was not able to download the code into a pdf nor submit it online in class. I was disconnected from the server and the notebook did not respond. So in this new notebook I will try to copy and paste all the questions and my answers into it and submit again. However, because I did not write down all the comments Professor made on Zoom, I did all the questions following the original comments so some of the questions may not be exactly the same as Professor changed on Zoom.\n",
    "\n",
    "Jiawei Wang"
   ]
  },
  {
   "cell_type": "markdown",
   "metadata": {},
   "source": [
    "1. Consider the structure: "
   ]
  },
  {
   "cell_type": "code",
   "execution_count": 2,
   "metadata": {},
   "outputs": [],
   "source": [
    "foo = [ ('M-W', '10:30-11:45'), ( 'comp-205', 'python'), ('T-Th', '18:00-19:15'), ('comp-119', 'big-data') ]"
   ]
  },
  {
   "cell_type": "markdown",
   "metadata": {},
   "source": [
    "Write an expression of `foo` that equals the string`'python'`, only using `foo` and use of `[...]` to locate values.  "
   ]
  },
  {
   "cell_type": "code",
   "execution_count": 3,
   "metadata": {},
   "outputs": [
    {
     "name": "stdout",
     "output_type": "stream",
     "text": [
      "python\n"
     ]
    }
   ],
   "source": [
    "# your answer: \n",
    "print(foo[1][1])"
   ]
  },
  {
   "cell_type": "markdown",
   "metadata": {},
   "source": [
    "2. Consider the structure: "
   ]
  },
  {
   "cell_type": "code",
   "execution_count": 4,
   "metadata": {},
   "outputs": [],
   "source": [
    "bar = { 'a': {'protein', 'rna', 'dna'}, 'b': {'wood', 'metal', 'glass'}}"
   ]
  },
  {
   "cell_type": "markdown",
   "metadata": {},
   "source": [
    "What type is `bar['b']`? "
   ]
  },
  {
   "cell_type": "markdown",
   "metadata": {},
   "source": [
    "___Your answer___: class 'set'"
   ]
  },
  {
   "cell_type": "markdown",
   "metadata": {},
   "source": [
    "3. Write a function `get_tuples` that takes one argument that is a dictionary and converts it to a list of tuples `(key, value)` corresponding to each entry in the dictionary. It should work on the example problem below.  "
   ]
  },
  {
   "cell_type": "code",
   "execution_count": 5,
   "metadata": {},
   "outputs": [],
   "source": [
    "# fill in details ...\n",
    "def get_tuples(dictionary):\n",
    "    newlist = []\n",
    "    for k in dictionary:\n",
    "        element = (k, dictionary.get(k))\n",
    "        newlist.append(element)\n",
    "    return newlist\n"
   ]
  },
  {
   "cell_type": "code",
   "execution_count": 6,
   "metadata": {},
   "outputs": [
    {
     "data": {
      "text/plain": [
       "[('a', 1), ('b', 2), ('c', 3)]"
      ]
     },
     "execution_count": 6,
     "metadata": {},
     "output_type": "execute_result"
    }
   ],
   "source": [
    "# this should return [('a', 1), ('b', 2), ('c', 3)]\n",
    "get_tuples({'a': 1, 'b': 2, 'c': 3})"
   ]
  },
  {
   "cell_type": "markdown",
   "metadata": {},
   "source": [
    "4. Write a class `Entry` that represents an address book entry and contains attributes 'name', 'address', 'phone'. Printing an instance should print name, address, phone. `Entry(name, address, phone)` should create an Entry. This should work on the example below. "
   ]
  },
  {
   "cell_type": "code",
   "execution_count": 7,
   "metadata": {},
   "outputs": [],
   "source": [
    "# fill in details ... \n",
    "class Film(): \n",
    "    name = None\n",
    "    actor = None\n",
    "    location = None\n",
    "    def __init__(self, actor, name, location):\n",
    "        self.actor = actor\n",
    "        self.name = name\n",
    "        self.location = location\n",
    "    def __str__(self):\n",
    "        return '\"{}\" starring {} is set in {}.'.format(self.name, self.actor, self.location)"
   ]
  },
  {
   "cell_type": "code",
   "execution_count": 8,
   "metadata": {},
   "outputs": [
    {
     "name": "stdout",
     "output_type": "stream",
     "text": [
      "\"A Fish called Wanda\" starring John Cleese is set in London.\n"
     ]
    }
   ],
   "source": [
    "# This example should print \n",
    "#                          'A Fish called Wanda' starring John Cleese is set in London.\n",
    "wanda = Film(\"John Cleese\", \"A Fish called Wanda\", \"London\")\n",
    "print(wanda)"
   ]
  },
  {
   "cell_type": "markdown",
   "metadata": {},
   "source": [
    "5. Write a function `mult_numbers` that prints the product of numbers in a list of numbers and other items. It should convert strings to numbers where appropriate and work on the example below. Hint: use the `try: ... except: ...` pattern. "
   ]
  },
  {
   "cell_type": "code",
   "execution_count": 11,
   "metadata": {},
   "outputs": [],
   "source": [
    "def mult_numbers(things):\n",
    "    answer = 0\n",
    "    for thing in things:\n",
    "        try:\n",
    "            answer += float(thing)\n",
    "        except:\n",
    "            answer += 0\n",
    "    return answer"
   ]
  },
  {
   "cell_type": "code",
   "execution_count": 12,
   "metadata": {},
   "outputs": [
    {
     "data": {
      "text/plain": [
       "17.75"
      ]
     },
     "execution_count": 12,
     "metadata": {},
     "output_type": "execute_result"
    }
   ],
   "source": [
    "mult_numbers([1, 'foo', '16', 'bar', 0.5, '00.2500'])"
   ]
  },
  {
   "cell_type": "markdown",
   "metadata": {},
   "source": [
    "6. An *index* for a list is a dict that allows each item position in the list to be looked up based upon its value. The index maps strings to list element numbers. Write a function `generate_index` that generates an index from a list of strings. Hint: use `range(len(ind))`."
   ]
  },
  {
   "cell_type": "code",
   "execution_count": 13,
   "metadata": {},
   "outputs": [],
   "source": [
    "# fill in details ...\n",
    "def generate_index(ind): \n",
    "    dic = {}\n",
    "    for i in ind:\n",
    "        dic[i] = ind.index(i)\n",
    "    return dic"
   ]
  },
  {
   "cell_type": "code",
   "execution_count": 14,
   "metadata": {},
   "outputs": [
    {
     "data": {
      "text/plain": [
       "{'Hrothgar': 0, 'Beowulf': 1, 'Grendel': 2}"
      ]
     },
     "execution_count": 14,
     "metadata": {},
     "output_type": "execute_result"
    }
   ],
   "source": [
    "# test on this example\n",
    "generate_index(['Hrothgar', 'Beowulf', 'Grendel'])  # This should return {'Hrothgar': 0, 'Beowulf': 1, 'Grendel': 2}"
   ]
  },
  {
   "cell_type": "markdown",
   "metadata": {},
   "source": [
    "7. A \"list of lists of data\" is a common data type in data science. Given a list containing lists of equal length, write a function `get_row` that takes this \"list of lists\" and a number, and generates the tuple of items at position n in each list. The example below should work: "
   ]
  },
  {
   "cell_type": "code",
   "execution_count": 15,
   "metadata": {},
   "outputs": [],
   "source": [
    "# fill in details ...\n",
    "def get_row(lofl, n):\n",
    "    go = []\n",
    "    for x in lofl:\n",
    "        go.append(x[1])\n",
    "    return go"
   ]
  },
  {
   "cell_type": "code",
   "execution_count": 16,
   "metadata": {},
   "outputs": [
    {
     "data": {
      "text/plain": [
       "[2, 'Beowulf', 40]"
      ]
     },
     "execution_count": 16,
     "metadata": {},
     "output_type": "execute_result"
    }
   ],
   "source": [
    "# Test on this example\n",
    "get_row([[1,2,3], ['Hrothgar', 'Beowulf', 'Grendel'], [29,40,1]],1)  # should print [2, 'Beowulf', 40]"
   ]
  },
  {
   "cell_type": "markdown",
   "metadata": {},
   "source": [
    "8. write a function `modify_tuple` that changes element n of a tuple t to a new value x and returns the new tuple. Hint: *tuples aren't mutable.* You need to construct a new one! "
   ]
  },
  {
   "cell_type": "code",
   "execution_count": 17,
   "metadata": {},
   "outputs": [],
   "source": [
    "# fill in details ... \n",
    "def modify_tuple(t, i, x):\n",
    "    new_tuple = (i, x, t[2])\n",
    "    return new_tuple"
   ]
  },
  {
   "cell_type": "code",
   "execution_count": 18,
   "metadata": {},
   "outputs": [
    {
     "data": {
      "text/plain": [
       "(1, 'foo', 3)"
      ]
     },
     "execution_count": 18,
     "metadata": {},
     "output_type": "execute_result"
    }
   ],
   "source": [
    "modify_tuple((1,2,3), 1, 'foo')  # should return (1, 'foo', 3)"
   ]
  },
  {
   "cell_type": "markdown",
   "metadata": {},
   "source": [
    "9. Consider the class Debt that we considered before: "
   ]
  },
  {
   "cell_type": "code",
   "execution_count": 23,
   "metadata": {},
   "outputs": [],
   "source": [
    "class Debt(): \n",
    "    debtor = None\n",
    "    lender = None\n",
    "    amount = None\n",
    "    def __init__(self, p1, p2, m):\n",
    "        self.debtor = p1\n",
    "        self.lender = p2\n",
    "        self.amount = m\n",
    "    def __str__(self): \n",
    "        return \"{} owes {} ${}\".format(self.debtor, self.lender, self.amount)\n",
    "    def t(self):\n",
    "        new = (self.debtor, self.lender, self.amount)\n",
    "        return new"
   ]
  },
  {
   "cell_type": "markdown",
   "metadata": {},
   "source": [
    "Write a method of `Debt` called `t` that returns a tuple corresponding to the Debt. It should work as documented below: "
   ]
  },
  {
   "cell_type": "code",
   "execution_count": 24,
   "metadata": {},
   "outputs": [
    {
     "data": {
      "text/plain": [
       "('Alva', 'George', 20)"
      ]
     },
     "execution_count": 24,
     "metadata": {},
     "output_type": "execute_result"
    }
   ],
   "source": [
    "# use this to test your code\n",
    "d = Debt(\"Alva\", \"George\", 20)\n",
    "d.t()  # should output ('Alva', 'George', 20)"
   ]
  },
  {
   "cell_type": "markdown",
   "metadata": {},
   "source": [
    "10. In a short paragraph, explain when to use a tuple versus a list. "
   ]
  },
  {
   "cell_type": "markdown",
   "metadata": {},
   "source": [
    "Tuples are fixed size in nature whereas lists are dynamic.\n",
    "\n",
    "In other words, a tuple is immutable whereas a list is mutable.\n",
    "\n",
    "You can't add elements to a tuple. Tuples have no append or extend method.\n",
    "\n",
    "You can't remove elements from a tuple. Tuples have no remove or pop method.\n",
    "\n",
    "You can find elements in a tuple, since this doesn't change the tuple.\n",
    "\n",
    "You can also use the in operator to check if an element exists in the tuple.\n",
    "\n",
    "Tuples are faster than lists. If you're defining a constant set of values and all you're ever going to do with it is iterate through it, use a tuple instead of a list.\n",
    "\n",
    "It makes your code safer if you “write-protect” data that does not need to be changed. Using a tuple instead of a list is like having an implied assert statement that this data is constant, and that special thought (and a specific function) is required to override that.\n",
    "\n",
    "Some tuples can be used as dictionary keys (specifically, tuples that contain immutable values like strings, numbers, and other tuples). Lists can never be used as dictionary keys, because lists are not immutable"
   ]
  }
 ],
 "metadata": {
  "kernelspec": {
   "display_name": "Python 3",
   "language": "python",
   "name": "python3"
  },
  "language_info": {
   "codemirror_mode": {
    "name": "ipython",
    "version": 3
   },
   "file_extension": ".py",
   "mimetype": "text/x-python",
   "name": "python",
   "nbconvert_exporter": "python",
   "pygments_lexer": "ipython3",
   "version": "3.6.8"
  }
 },
 "nbformat": 4,
 "nbformat_minor": 2
}
